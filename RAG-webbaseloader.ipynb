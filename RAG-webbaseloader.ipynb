{
 "cells": [
  {
   "cell_type": "code",
   "execution_count": 1,
   "id": "27713eed-5af6-4beb-b928-25b8b12f80d7",
   "metadata": {},
   "outputs": [
    {
     "data": {
      "text/plain": [
       "True"
      ]
     },
     "execution_count": 1,
     "metadata": {},
     "output_type": "execute_result"
    }
   ],
   "source": [
    "import os\n",
    "from dotenv import load_dotenv\n",
    "\n",
    "load_dotenv()"
   ]
  },
  {
   "cell_type": "code",
   "execution_count": 2,
   "id": "a4a09843-6665-44e1-a691-efbe0594bb77",
   "metadata": {},
   "outputs": [],
   "source": [
    "import bs4\n",
    "from langchain import hub\n",
    "from langchain.chat_models import ChatOpenAI\n",
    "from langchain.document_loaders import WebBaseLoader\n",
    "from langchain.embeddings import OpenAIEmbeddings\n",
    "from langchain.schema import StrOutputParser\n",
    "from langchain.text_splitter import RecursiveCharacterTextSplitter\n",
    "from langchain.vectorstores import Chroma\n",
    "from langchain_core.runnables import RunnablePassthrough"
   ]
  },
  {
   "cell_type": "code",
   "execution_count": 3,
   "id": "20aba74a-5e47-4330-a1ae-1bf1c4df3114",
   "metadata": {},
   "outputs": [],
   "source": [
    "os.environ[\"OPENAI_API_KEY\"] = os.getenv('openai_token')"
   ]
  },
  {
   "cell_type": "markdown",
   "id": "268f711f-847d-49ce-86dc-2088a795f25d",
   "metadata": {},
   "source": [
    "## Step 1. data load\n",
    "### WebBaseLoader 이용하여 web data load"
   ]
  },
  {
   "cell_type": "code",
   "execution_count": 8,
   "id": "e7a20319-3d88-410c-8aac-4c060e8d9965",
   "metadata": {},
   "outputs": [],
   "source": [
    "from langchain.document_loaders import WebBaseLoader\n",
    "\n",
    "web_urls = ['https://www.liverpoolfc.com/news/talking-points-jota-returns-no50-nunez-delivers-gakpos-landmark-and-more',\n",
    "            'https://www.liverpoolfc.com/news/liverpool-go-top-league-nunez-and-jota-strike-burnley']\n",
    "\n",
    "loader = WebBaseLoader(\n",
    "    web_paths=(web_urls[0],),\n",
    "    bs_kwargs={\n",
    "        \"parse_only\": bs4.SoupStrainer(\n",
    "            class_=(\"css-13o9mi9\", \"css-gtn94w\",)\n",
    "        )\n",
    "    }, # BeautifulSoup Parser\n",
    ")\n",
    "docs = loader.load()"
   ]
  },
  {
   "cell_type": "code",
   "execution_count": 9,
   "id": "0146d8ad-f28d-4d99-bc24-605b3afa0ec8",
   "metadata": {},
   "outputs": [
    {
     "data": {
      "text/plain": [
       "[Document(page_content=\"Darwin Nunez and Diogo Jota were on target as Liverpool beat Burnley 2-0 to move to the top of the Premier League on Boxing Day.Nunez’s early goal set the Reds on their way at Turf Moor, with Jota emerging from the bench to seal the points late on in an action-packed contest.Here are five things we noticed on a positive night in Lancashire…Nunez delivers a late Christmas presentIt took Liverpool fewer than six minutes to break this game open, and in some style too.Cody Gakpo escaped down the left and pulled the ball back for Nunez, who slotted home a brilliant first-time finish.The Uruguay international shaped his body to arc a clinical strike into the bottom right corner to land his first goal for the Reds since November 1.It was the highlight of a fine all-round performance from the No.9, who was a constant menace throughout.A nice late Christmas present for Reds fans.Jota’s timely returnSo often an arch predator for Liverpool, Jota needed only six minutes to make his mark here.The Portuguese had been absent since the draw at Manchester City on November 25 due to injury, but he was fit enough to return to action as a substitute against Burnley, and how glad Liverpool were that he did.\\u200cHaving replaced Nunez in the 84th minute, the forward delivered the killer blow, firing home from a tight angle after another substitute, Luis Diaz, had set him up with a backheel.Adding further gloss to the moment, it was Jota’s 50th goal since he joined the club from Wolverhampton Wanderers in 2020.Welcome back, Diogo.Boxing Day specialsFew teams enjoy Boxing Day football as much as Liverpool, and few managers enjoy it as much as Jürgen Klopp.The Reds boss has now won all six of his Premier League games on December 26, by an aggregate score of 19-1. No manager has a better 100 per cent record in the competition on Boxing Day.And the Reds have now won their last seven Boxing Day league games, since a 2-1 loss at Man City in 2013-14. It’s their longest winning run on the day in their league history.Gakpo reaches his half-centuryGakpo will celebrate 12 months as a Liverpool player next week, and here he made sure he marked his 50th appearance for the club in style.Starting on the left of the Reds’ attack, the Dutchman was prominent particularly in the first half, and collected an assist for Nunez’s opening goal.\\u200c16 hours agoReactionVirgil van Dijk on Burnley win: 'It was an important victory for us'.\\xa0Liverpool captain Virgil van Dijk praised what he believed to be an 'important' victory for the Reds over Burnley in the Premier League on Boxing Day. He might have had a goal of his own soon after, but saw his emphatic strike from a loose ball ruled out for a foul by Nunez.Nevertheless, the 24-year-old can reflect on a job well done and a promising first half-century of games in red, which has included 14 goals.Defence stands firmLiverpool could have been out of sight by the hour mark, but they were forced to weather a storm in the second half as Burnley came on strong in the closing stages.The good news for Klopp, however, is that defensively his team continue to show impressive resilience.After 19 league games, the Reds have conceded only 16 goals, the joint-fewest in the division, and both captain Virgil van Dijk and youngster Jarell Quansah were excellent at Turf Moor.Quansah notably shone on just his third Premier League start, with the manager describing his latest contribution as “top, really good” post-match.Published 16 hours ago SHAREFacebook Twitter Email WhatsApp LinkedIn Telegram \", metadata={'source': 'https://www.liverpoolfc.com/news/talking-points-jota-returns-no50-nunez-delivers-gakpos-landmark-and-more'})]"
      ]
     },
     "execution_count": 9,
     "metadata": {},
     "output_type": "execute_result"
    }
   ],
   "source": [
    "docs"
   ]
  },
  {
   "cell_type": "code",
   "execution_count": 10,
   "id": "372d00e8-6d83-44b1-81ae-ba4100b56e2e",
   "metadata": {},
   "outputs": [
    {
     "data": {
      "text/plain": [
       "3536"
      ]
     },
     "execution_count": 10,
     "metadata": {},
     "output_type": "execute_result"
    }
   ],
   "source": [
    "len(docs[0].page_content)"
   ]
  },
  {
   "cell_type": "code",
   "execution_count": null,
   "id": "c566f070-2a3b-4e87-a441-656940cc4026",
   "metadata": {},
   "outputs": [],
   "source": []
  },
  {
   "cell_type": "markdown",
   "id": "e0dcdb90-af78-4013-8936-d790edeaa57d",
   "metadata": {},
   "source": [
    "## Step 2. Split text\n",
    "* 지정된 `chunk_size`로 split하되 `chunk_overlap` 허용"
   ]
  },
  {
   "cell_type": "code",
   "execution_count": 11,
   "id": "980c7a28-d54d-4e65-8799-fc74f14ab56d",
   "metadata": {},
   "outputs": [],
   "source": [
    "from langchain.text_splitter import RecursiveCharacterTextSplitter\n",
    "\n",
    "text_splitter = RecursiveCharacterTextSplitter(\n",
    "    chunk_size=1000, chunk_overlap=200, add_start_index=True\n",
    ")\n",
    "all_splits = text_splitter.split_documents(docs)"
   ]
  },
  {
   "cell_type": "code",
   "execution_count": 12,
   "id": "d9a7e49e-7165-4e1b-b5d8-73103e7fb671",
   "metadata": {},
   "outputs": [
    {
     "data": {
      "text/plain": [
       "[Document(page_content='Darwin Nunez and Diogo Jota were on target as Liverpool beat Burnley 2-0 to move to the top of the Premier League on Boxing Day.Nunez’s early goal set the Reds on their way at Turf Moor, with Jota emerging from the bench to seal the points late on in an action-packed contest.Here are five things we noticed on a positive night in Lancashire…Nunez delivers a late Christmas presentIt took Liverpool fewer than six minutes to break this game open, and in some style too.Cody Gakpo escaped down the left and pulled the ball back for Nunez, who slotted home a brilliant first-time finish.The Uruguay international shaped his body to arc a clinical strike into the bottom right corner to land his first goal for the Reds since November 1.It was the highlight of a fine all-round performance from the No.9, who was a constant menace throughout.A nice late Christmas present for Reds fans.Jota’s timely returnSo often an arch predator for Liverpool, Jota needed only six minutes to make his mark here.The', metadata={'source': 'https://www.liverpoolfc.com/news/talking-points-jota-returns-no50-nunez-delivers-gakpos-landmark-and-more', 'start_index': 0}),\n",
       " Document(page_content='who was a constant menace throughout.A nice late Christmas present for Reds fans.Jota’s timely returnSo often an arch predator for Liverpool, Jota needed only six minutes to make his mark here.The Portuguese had been absent since the draw at Manchester City on November 25 due to injury, but he was fit enough to return to action as a substitute against Burnley, and how glad Liverpool were that he did.\\u200cHaving replaced Nunez in the 84th minute, the forward delivered the killer blow, firing home from a tight angle after another substitute, Luis Diaz, had set him up with a backheel.Adding further gloss to the moment, it was Jota’s 50th goal since he joined the club from Wolverhampton Wanderers in 2020.Welcome back, Diogo.Boxing Day specialsFew teams enjoy Boxing Day football as much as Liverpool, and few managers enjoy it as much as Jürgen Klopp.The Reds boss has now won all six of his Premier League games on December 26, by an aggregate score of 19-1. No manager has a better 100 per cent', metadata={'source': 'https://www.liverpoolfc.com/news/talking-points-jota-returns-no50-nunez-delivers-gakpos-landmark-and-more', 'start_index': 802}),\n",
       " Document(page_content=\"and few managers enjoy it as much as Jürgen Klopp.The Reds boss has now won all six of his Premier League games on December 26, by an aggregate score of 19-1. No manager has a better 100 per cent record in the competition on Boxing Day.And the Reds have now won their last seven Boxing Day league games, since a 2-1 loss at Man City in 2013-14. It’s their longest winning run on the day in their league history.Gakpo reaches his half-centuryGakpo will celebrate 12 months as a Liverpool player next week, and here he made sure he marked his 50th appearance for the club in style.Starting on the left of the Reds’ attack, the Dutchman was prominent particularly in the first half, and collected an assist for Nunez’s opening goal.\\u200c16 hours agoReactionVirgil van Dijk on Burnley win: 'It was an important victory for us'.\\xa0Liverpool captain Virgil van Dijk praised what he believed to be an 'important' victory for the Reds over Burnley in the Premier League on Boxing Day. He might have had a goal of\", metadata={'source': 'https://www.liverpoolfc.com/news/talking-points-jota-returns-no50-nunez-delivers-gakpos-landmark-and-more', 'start_index': 1605}),\n",
       " Document(page_content=\"victory for us'.\\xa0Liverpool captain Virgil van Dijk praised what he believed to be an 'important' victory for the Reds over Burnley in the Premier League on Boxing Day. He might have had a goal of his own soon after, but saw his emphatic strike from a loose ball ruled out for a foul by Nunez.Nevertheless, the 24-year-old can reflect on a job well done and a promising first half-century of games in red, which has included 14 goals.Defence stands firmLiverpool could have been out of sight by the hour mark, but they were forced to weather a storm in the second half as Burnley came on strong in the closing stages.The good news for Klopp, however, is that defensively his team continue to show impressive resilience.After 19 league games, the Reds have conceded only 16 goals, the joint-fewest in the division, and both captain Virgil van Dijk and youngster Jarell Quansah were excellent at Turf Moor.Quansah notably shone on just his third Premier League start, with the manager describing his\", metadata={'source': 'https://www.liverpoolfc.com/news/talking-points-jota-returns-no50-nunez-delivers-gakpos-landmark-and-more', 'start_index': 2408}),\n",
       " Document(page_content='the division, and both captain Virgil van Dijk and youngster Jarell Quansah were excellent at Turf Moor.Quansah notably shone on just his third Premier League start, with the manager describing his latest contribution as “top, really good” post-match.Published 16 hours ago SHAREFacebook Twitter Email WhatsApp LinkedIn Telegram', metadata={'source': 'https://www.liverpoolfc.com/news/talking-points-jota-returns-no50-nunez-delivers-gakpos-landmark-and-more', 'start_index': 3207})]"
      ]
     },
     "execution_count": 12,
     "metadata": {},
     "output_type": "execute_result"
    }
   ],
   "source": [
    "all_splits"
   ]
  },
  {
   "cell_type": "code",
   "execution_count": 14,
   "id": "56555d5f-b66c-443f-8d3c-7a55d789f084",
   "metadata": {},
   "outputs": [
    {
     "data": {
      "text/plain": [
       "(5, 998)"
      ]
     },
     "execution_count": 14,
     "metadata": {},
     "output_type": "execute_result"
    }
   ],
   "source": [
    "len(all_splits), len(all_splits[0].page_content)"
   ]
  },
  {
   "cell_type": "code",
   "execution_count": null,
   "id": "a6b25d0c-0acd-44e8-81b6-5ec367d637b7",
   "metadata": {},
   "outputs": [],
   "source": []
  },
  {
   "cell_type": "markdown",
   "id": "117799ca-4d85-4b6c-9c5d-b7d6ec7a5b5f",
   "metadata": {},
   "source": [
    "## Step 3. Store data in vectorDB\n",
    "* `OpenAIEmbeddings` model로 embedding 계산 후  vectorDB `Chroma` 에 저장"
   ]
  },
  {
   "cell_type": "code",
   "execution_count": 19,
   "id": "490ad3d5-b651-45f8-aa77-8f19088aa3b8",
   "metadata": {},
   "outputs": [],
   "source": [
    "from langchain.embeddings import OpenAIEmbeddings\n",
    "from langchain.vectorstores import Chroma\n",
    "\n",
    "vectorstore = Chroma.from_documents(documents=all_splits, embedding=OpenAIEmbeddings())"
   ]
  },
  {
   "cell_type": "code",
   "execution_count": 20,
   "id": "a8217bbd-b0d0-47e8-91fd-9ecf2b69284d",
   "metadata": {},
   "outputs": [
    {
     "data": {
      "text/plain": [
       "<langchain_community.vectorstores.chroma.Chroma at 0xffff7e962650>"
      ]
     },
     "execution_count": 20,
     "metadata": {},
     "output_type": "execute_result"
    }
   ],
   "source": [
    "vectorstore"
   ]
  },
  {
   "cell_type": "code",
   "execution_count": null,
   "id": "65e93e31-3518-4e05-9e32-b7041ad209f6",
   "metadata": {},
   "outputs": [],
   "source": []
  },
  {
   "cell_type": "markdown",
   "id": "5fc424b4-2d9c-4977-b8f5-f1a156b8578f",
   "metadata": {},
   "source": [
    "## Step 4. Retrieve \n",
    "* retriever의 `serch_type`\n",
    "    * similarity (search_kwargs key: 'k')\n",
    "    * mmr (Maximum marginal relevance retrieval)\n",
    "    * similarity_score_threshold (search_kwargs key: 'score_threshold')"
   ]
  },
  {
   "cell_type": "code",
   "execution_count": 26,
   "id": "23e5017b-46d9-4869-8163-002d65621612",
   "metadata": {},
   "outputs": [],
   "source": [
    "retriever = vectorstore.as_retriever(search_type=\"similarity\", search_kwargs={\"k\": 3})"
   ]
  },
  {
   "cell_type": "code",
   "execution_count": 27,
   "id": "2dd32e2c-a3dc-485c-9294-5c1c716a61bc",
   "metadata": {},
   "outputs": [],
   "source": [
    "retrieved_docs = retriever.get_relevant_documents(\n",
    "    \"Who scored goals?\"\n",
    ")"
   ]
  },
  {
   "cell_type": "code",
   "execution_count": 28,
   "id": "de7f3115-07a1-434e-b611-b36e3b85a814",
   "metadata": {},
   "outputs": [
    {
     "data": {
      "text/plain": [
       "3"
      ]
     },
     "execution_count": 28,
     "metadata": {},
     "output_type": "execute_result"
    }
   ],
   "source": [
    "len(retrieved_docs)"
   ]
  },
  {
   "cell_type": "code",
   "execution_count": 29,
   "id": "319369b4-a9e4-4c0e-ac2c-9d81d3931031",
   "metadata": {},
   "outputs": [
    {
     "name": "stdout",
     "output_type": "stream",
     "text": [
      "Darwin Nunez and Diogo Jota were on target as Liverpool beat Burnley 2-0 to move to the top of the Premier League on Boxing Day.Nunez’s early goal set the Reds on their way at Turf Moor, with Jota emerging from the bench to seal the points late on in an action-packed contest.Here are five things we noticed on a positive night in Lancashire…Nunez delivers a late Christmas presentIt took Liverpool fewer than six minutes to break this game open, and in some style too.Cody Gakpo escaped down the left and pulled the ball back for Nunez, who slotted home a brilliant first-time finish.The Uruguay international shaped his body to arc a clinical strike into the bottom right corner to land his first goal for the Reds since November 1.It was the highlight of a fine all-round performance from the No.9, who was a constant menace throughout.A nice late Christmas present for Reds fans.Jota’s timely returnSo often an arch predator for Liverpool, Jota needed only six minutes to make his mark here.The\n"
     ]
    }
   ],
   "source": [
    "print(retrieved_docs[0].page_content)"
   ]
  },
  {
   "cell_type": "code",
   "execution_count": 30,
   "id": "f5678f6f-2829-4588-bc7c-2a6b4ff50e66",
   "metadata": {},
   "outputs": [
    {
     "name": "stdout",
     "output_type": "stream",
     "text": [
      "victory for us'. Liverpool captain Virgil van Dijk praised what he believed to be an 'important' victory for the Reds over Burnley in the Premier League on Boxing Day. He might have had a goal of his own soon after, but saw his emphatic strike from a loose ball ruled out for a foul by Nunez.Nevertheless, the 24-year-old can reflect on a job well done and a promising first half-century of games in red, which has included 14 goals.Defence stands firmLiverpool could have been out of sight by the hour mark, but they were forced to weather a storm in the second half as Burnley came on strong in the closing stages.The good news for Klopp, however, is that defensively his team continue to show impressive resilience.After 19 league games, the Reds have conceded only 16 goals, the joint-fewest in the division, and both captain Virgil van Dijk and youngster Jarell Quansah were excellent at Turf Moor.Quansah notably shone on just his third Premier League start, with the manager describing his\n"
     ]
    }
   ],
   "source": [
    "print(retrieved_docs[-1].page_content)"
   ]
  },
  {
   "cell_type": "code",
   "execution_count": null,
   "id": "ee537e3a-377a-4ead-b4e3-daae71d4f1f4",
   "metadata": {},
   "outputs": [],
   "source": []
  },
  {
   "cell_type": "markdown",
   "id": "91ee22ad-fe42-40a5-8c08-e8d6826bfaf8",
   "metadata": {},
   "source": [
    "## Step 5. Generate\n",
    "* context로 retriever, question으로 RunnablePassthrough()\n",
    "    * RunnablePassthrough()는 input을 받아 rag chain에 흘려주는 역할\n",
    "* llm은 `gpt-3.5-turbo`\n",
    "* lag chain에 question이 invoke되면 *Step 4* 의 retrieve 부터 실행"
   ]
  },
  {
   "cell_type": "code",
   "execution_count": 31,
   "id": "8e4b72e3-9342-46c0-aa06-6809c68a6aab",
   "metadata": {},
   "outputs": [],
   "source": [
    "from langchain.chat_models import ChatOpenAI\n",
    "\n",
    "llm = ChatOpenAI(model_name=\"gpt-3.5-turbo\", temperature=0)"
   ]
  },
  {
   "cell_type": "code",
   "execution_count": 33,
   "id": "ec4838aa-7eee-4d5c-856a-4e6b4e32b318",
   "metadata": {},
   "outputs": [],
   "source": [
    "from langchain.schema import StrOutputParser\n",
    "from langchain_core.runnables import RunnablePassthrough\n",
    "\n",
    "def format_docs(docs):\n",
    "    return \"\\n\\n\".join(doc.page_content for doc in docs)"
   ]
  },
  {
   "cell_type": "code",
   "execution_count": 34,
   "id": "00dd5072-2ca8-4580-a8c5-d7b6b19f1d11",
   "metadata": {},
   "outputs": [],
   "source": [
    "from langchain.prompts import PromptTemplate\n",
    "\n",
    "template = \"\"\"Use the following pieces of context to answer the question at the end.\n",
    "If you don't know the answer, just say that you don't know, don't try to make up an answer.\n",
    "Use three sentences maximum and keep the answer as concise as possible.\n",
    "Always say \"thanks for asking! Liverpool will be the Champion of this season\" at the end of the answer.\n",
    "{context}\n",
    "Question: {question}\n",
    "Helpful Answer:\"\"\"\n",
    "\n",
    "rag_prompt = PromptTemplate.from_template(template)"
   ]
  },
  {
   "cell_type": "code",
   "execution_count": 35,
   "id": "35070dd5-10b7-419e-a83c-4877d736a5eb",
   "metadata": {},
   "outputs": [
    {
     "data": {
      "text/plain": [
       "PromptTemplate(input_variables=['context', 'question'], template='Use the following pieces of context to answer the question at the end.\\nIf you don\\'t know the answer, just say that you don\\'t know, don\\'t try to make up an answer.\\nUse three sentences maximum and keep the answer as concise as possible.\\nAlways say \"thanks for asking! Liverpool will be the Champion of this season\" at the end of the answer.\\n{context}\\nQuestion: {question}\\nHelpful Answer:')"
      ]
     },
     "execution_count": 35,
     "metadata": {},
     "output_type": "execute_result"
    }
   ],
   "source": [
    "rag_prompt"
   ]
  },
  {
   "cell_type": "code",
   "execution_count": 36,
   "id": "abf54019-c944-448a-b619-4cef6d1c5d96",
   "metadata": {},
   "outputs": [],
   "source": [
    "rag_chain = (\n",
    "    {\"context\": retriever | format_docs, \"question\": RunnablePassthrough()}\n",
    "    | rag_prompt\n",
    "    | llm\n",
    "    | StrOutputParser()\n",
    ")\n"
   ]
  },
  {
   "cell_type": "code",
   "execution_count": 38,
   "id": "445732c6-97e0-4cae-831c-44d8f4b02f02",
   "metadata": {},
   "outputs": [
    {
     "data": {
      "text/plain": [
       "'Darwin Nunez and Diogo Jota scored the goals for Liverpool. Thanks for asking! Liverpool will be the Champion of this season.'"
      ]
     },
     "execution_count": 38,
     "metadata": {},
     "output_type": "execute_result"
    }
   ],
   "source": [
    "rag_chain.invoke(\"Who scored goals?\")"
   ]
  },
  {
   "cell_type": "code",
   "execution_count": 40,
   "id": "ec6042af-d24e-443a-9e3c-a3e73021e14e",
   "metadata": {},
   "outputs": [
    {
     "data": {
      "text/plain": [
       "\"Cody Gakpo assisted on Nunez's goal. Thanks for asking! Liverpool will be the Champion of this season.\""
      ]
     },
     "execution_count": 40,
     "metadata": {},
     "output_type": "execute_result"
    }
   ],
   "source": [
    "rag_chain.invoke(\"Who assisted on Nunez's goal?\")"
   ]
  },
  {
   "cell_type": "code",
   "execution_count": null,
   "id": "cd764ba5-f452-4c54-992b-4543c4a9d96f",
   "metadata": {},
   "outputs": [],
   "source": []
  }
 ],
 "metadata": {
  "kernelspec": {
   "display_name": "Python 3 (ipykernel)",
   "language": "python",
   "name": "python3"
  },
  "language_info": {
   "codemirror_mode": {
    "name": "ipython",
    "version": 3
   },
   "file_extension": ".py",
   "mimetype": "text/x-python",
   "name": "python",
   "nbconvert_exporter": "python",
   "pygments_lexer": "ipython3",
   "version": "3.11.7"
  }
 },
 "nbformat": 4,
 "nbformat_minor": 5
}
